{
 "cells": [
  {
   "cell_type": "code",
   "execution_count": 18,
   "id": "8b8cbfa3",
   "metadata": {},
   "outputs": [],
   "source": [
    "import pandas as pd\n",
    "import numpy as np\n",
    "import os\n",
    "import re\n",
    "from decimal import *\n",
    "# generate random Gaussian values\n",
    "from numpy.random import seed\n",
    "from numpy.random import randn,randint\n",
    "import xml.etree.ElementTree as ET"
   ]
  },
  {
   "cell_type": "markdown",
   "id": "e09162db",
   "metadata": {},
   "source": [
    "### Calculate sorption parameters "
   ]
  },
  {
   "cell_type": "code",
   "execution_count": 19,
   "id": "aa1ce56a",
   "metadata": {},
   "outputs": [],
   "source": [
    "interval_list = [[[0.59,0.67],[],[0.68,0.72],[0.45,0.55],[0.56,0.58],[],[]], # II\n",
    "                [[0.340,0.43],[],[0.44,0.47],[0.30,0.33],[0.20,0.29],[0.48,0.55],[0.100,0.200],[0.56,0.700],[0.71,100],[0,0.09]], #III\n",
    "                [[0.20,0.29],[0.040,0.055],[0.30,0.35],[0.40,0.50],[0,0.19],[]], # V\n",
    "                [[0.76,0.83],[],[0.40,0.75],[0.84,1.3],[1.4,3.0],[3.1,100],[]], # I\n",
    "                [[0.561,0.659],[0.27,0.33],[0.66,0.69],[0.70,0.75],[0.50,0.56],[0.34,0.49],[0.76,0.95],[0.96,100],[0,0.26]], # IV               \n",
    "                [[53,67],[],[40,52],[68,70],[0,39],[71,100],[0,30]], #T\n",
    "                [[0.22,0.26],[],[0.17,0.21],[0.27,0.30],[0.31,0.43],[0.10,0.16],[0.44,0.55]]] # S(30/60)"
   ]
  },
  {
   "cell_type": "code",
   "execution_count": 20,
   "id": "7600d190",
   "metadata": {},
   "outputs": [],
   "source": [
    "def read_data(path_texts):\n",
    "    return pd.read_excel(path_texts, sheet_name=1, header=0)"
   ]
  },
  {
   "cell_type": "code",
   "execution_count": 21,
   "id": "215f3ce7",
   "metadata": {},
   "outputs": [],
   "source": [
    "def tfg_converter(lines):\n",
    "    #splitting to title string and numerical data\n",
    "    title_raw = lines[:8]\n",
    "    tf_raw = lines[8:170]\n",
    "    #numerical data list forming\n",
    "    tf_list = []\n",
    "    for i in range(len(tf_raw)):\n",
    "        line = re.sub(r\"(?i)[<point time=alue=/>]\", \"\", tf_raw[i])\n",
    "        tf_str = line.replace('v',' ').replace('\"',\"\").replace(\",\",\".\").split()\n",
    "        tf_num = float(tf_str[1])\n",
    "        tf_list.append(tf_num)\n",
    "    #title string forming\n",
    "    title_str = []\n",
    "    for i in range(len(title_raw)):\n",
    "        line = re.sub(r\"(?i)[mesure<name></name>dciptiolghk=]\", \"\", title_raw[i])\n",
    "        ts=line.replace('\"',\"\").replace(\",\",\".\").replace('\\ufeff',\"\")\n",
    "        title_str.append(ts)\n",
    "    return title_str[1:], tf_list"
   ]
  },
  {
   "cell_type": "code",
   "execution_count": 22,
   "id": "54b2764f",
   "metadata": {},
   "outputs": [],
   "source": [
    "def parse_covid_tfg(data_path):\n",
    "    tree = ET.parse(data_path)\n",
    "    root = tree.getroot()\n",
    "    tf_arr = []\n",
    "    meta_info = root.find('name').text\n",
    "    for point in root.iter('point'):\n",
    "        tf_arr.append(int(point.attrib['value']))\n",
    "        \n",
    "    return meta_info, np.array(tf_arr, dtype=np.float64)\n"
   ]
  },
  {
   "cell_type": "code",
   "execution_count": 23,
   "id": "3ca9d45f",
   "metadata": {},
   "outputs": [],
   "source": [
    "def get_arr(data_path):\n",
    "    file = open(data_path, encoding='utf-8')\n",
    "    lines = file.readlines()\n",
    "    lines = [line.rstrip() for line in lines]\n",
    "    \n",
    "    tfg_pred = tfg_converter(lines)\n",
    "    meta_info = tfg_pred[0]\n",
    "\n",
    "    tf_arr = np.array(tfg_pred[1])\n",
    "    tf_arr = tf_arr[0] - tf_arr\n",
    "    \n",
    "    file.close()\n",
    "    \n",
    "    return meta_info, tf_arr\n",
    "\n",
    "def get_arr_from_covid_tfg(data_path):\n",
    "    return parse_covid_tfg(data_path)\n",
    "    "
   ]
  },
  {
   "cell_type": "code",
   "execution_count": 24,
   "id": "4ddea23d",
   "metadata": {},
   "outputs": [],
   "source": [
    "#interval membership detector\n",
    "def detect(list, x):\n",
    "    getcontext().prec = 2\n",
    "    fl = (x >= Decimal(str(list[0])))\n",
    "    fr = (x <= Decimal(str(list[1])))\n",
    "    if fl & fr:\n",
    "        return 1\n",
    "    else:\n",
    "        return 0"
   ]
  },
  {
   "cell_type": "code",
   "execution_count": 25,
   "id": "51b5485f",
   "metadata": {},
   "outputs": [],
   "source": [
    "#list of active intervals\n",
    "def ind_tx(feature_intervals, fv):\n",
    "    candidates = []\n",
    "    for k in range(len(feature_intervals)):\n",
    "        ivl = feature_intervals[k]\n",
    "        if len(ivl) == 0:\n",
    "            continue\n",
    "        if detect(ivl, fv) == 1:\n",
    "            candidates.append(k)\n",
    "    if len(candidates) == 0:\n",
    "        return -1\n",
    "    # in case of nested intervals choose the smallest\n",
    "    elif len(candidates) > 1:\n",
    "        sorted_candidates = sorted([feature_intervals[k] for k in candidates], key=lambda tup: tup[1])\n",
    "        final_candidate = sorted_candidates[0]\n",
    "        return feature_intervals.index(final_candidate)\n",
    "\n",
    "    return candidates[0]"
   ]
  },
  {
   "cell_type": "code",
   "execution_count": 26,
   "id": "45066edb",
   "metadata": {},
   "outputs": [],
   "source": [
    "def calculate_features(tf_arr):\n",
    "    # precision installation\n",
    "    getcontext().prec = 2\n",
    "\n",
    "    # Noise level\n",
    "    dev=2\n",
    "    # seed random number generator\n",
    "    seed(42)\n",
    "    # generate some Gaussian values\n",
    "    tf_arrN = randint(-dev,dev,size=len(tf_arr))+tf_arr    \n",
    "\n",
    "    def integral_sum(a, b):\n",
    "        dx = b - a\n",
    "        y1 = tf_arr[a]\n",
    "        y2 = tf_arr[b]\n",
    "\n",
    "        return (y1 + y2) / 2.0 * dx\n",
    "\n",
    "    def tau_l(ref, arr):\n",
    "        i=1\n",
    "        for k in range(60):\n",
    "            if arr[i] <= ref:\n",
    "                i=i+1\n",
    "            else:\n",
    "                tleft=i-1\n",
    "                return tleft\n",
    "\n",
    "    #a(40/60)\n",
    "    f1 = Decimal(str(tf_arr[40])) / Decimal(str(tf_arr[60]))\n",
    "\n",
    "    #a(30/60)\n",
    "    f2 = Decimal(tf_arr[30]) / Decimal(tf_arr[60])\n",
    "\n",
    "    #a(20/60)\n",
    "    f3 = Decimal(tf_arr[20]) / Decimal(tf_arr[60])\n",
    "\n",
    "    #a(40/70)\n",
    "    f4 = Decimal(tf_arr[40]) / Decimal(tf_arr[70])\n",
    "\n",
    "    #a(20/30)\n",
    "    f5 = Decimal(tf_arr[20]) / Decimal(tf_arr[30])\n",
    "\n",
    "    #T\n",
    "    with localcontext() as ctx:\n",
    "        ctx.rounding = ROUND_HALF_UP\n",
    "        ref = Decimal(np.amax(tf_arr)/2).to_integral_value()\n",
    "        f6 = tau_l(ref, tf_arr) * 2\n",
    "\n",
    "    #S(30)/S(60)\n",
    "    f7 = Decimal(integral_sum(4, 30)) / Decimal(integral_sum(4, 60))\n",
    "\n",
    "    return [f1, f2, f3, f4, f5, f6, f7]\n"
   ]
  },
  {
   "cell_type": "code",
   "execution_count": 27,
   "id": "f2f02b4d",
   "metadata": {},
   "outputs": [],
   "source": [
    "def collect_output_text(features, interval_list, kuchmagic_table):\n",
    "    text_out = []\n",
    "    intervals = []\n",
    "    text_alarm='out of intervals'\n",
    "    for i, f in enumerate(features):\n",
    "        #get index of interval where the value is\n",
    "        row = ind_tx(interval_list[i], f)\n",
    "        if row == -1:\n",
    "            text_out.append(text_alarm)\n",
    "        else:\n",
    "            text_out.append(kuchmagic_table.iloc[row][i+1].strip())\n",
    "        intervals.append(row)\n",
    "    return text_out, intervals"
   ]
  },
  {
   "cell_type": "code",
   "execution_count": 28,
   "id": "2849a3c4",
   "metadata": {},
   "outputs": [],
   "source": [
    "# get meta info and final list of texts from tfg file\n",
    "# used for output of text values of parameters\n",
    "def get_text_from_tfg(data_path, interval_list, kuchmagic_table):\n",
    "    meta_info = []\n",
    "    text = []\n",
    "\n",
    "    try:\n",
    "        meta_info, tf_arr = get_arr(data_path)\n",
    "    except:\n",
    "        meta_info, tf_arr = get_arr_from_covid_tfg(data_path)\n",
    "\n",
    "    text = []\n",
    "    if tf_arr.size > 0:\n",
    "        features = calculate_features(tf_arr)\n",
    "        text, _ = collect_output_text(features, interval_list, kuchmagic_table)\n",
    "\n",
    "    return meta_info, text"
   ]
  },
  {
   "cell_type": "code",
   "execution_count": 29,
   "id": "dfb8bde2",
   "metadata": {},
   "outputs": [],
   "source": [
    "data = read_data('../kuch_magic.xlsx')"
   ]
  },
  {
   "cell_type": "code",
   "execution_count": 30,
   "id": "b41296a4",
   "metadata": {},
   "outputs": [],
   "source": [
    "data_files = [f for f in os.listdir(\"data\") if f.endswith(\".XML\")]"
   ]
  },
  {
   "cell_type": "code",
   "execution_count": 31,
   "id": "670655cf",
   "metadata": {},
   "outputs": [],
   "source": [
    "# if a measurment is taken on the left hand, only the token with description for left hand will be added to final text\n",
    "# the same way for the right hand\n",
    "def parse_left_right(texts):\n",
    "    new_texts = []\n",
    "    for text in texts:\n",
    "        new_text = []\n",
    "        for token in text.split(\"/\"):\n",
    "            if any(i for i in['слева', 'справа', 'левая', 'правая'] if i in f) and 'слева и справа' in token:\n",
    "                continue\n",
    "            if any(i for i in['слева', 'левая'] if i in f) and \\\n",
    "               any(i for i in['справа', 'правая'] if i in token):\n",
    "                continue\n",
    "            if any(i for i in['справа', 'правая'] if i in f) and \\\n",
    "               any(i for i in['слева', 'левая'] if i  in token):\n",
    "                continue\n",
    "            new_text.append(token)\n",
    "        new_texts.append(\"/\".join(new_text))\n",
    "    return new_texts"
   ]
  },
  {
   "cell_type": "code",
   "execution_count": 32,
   "id": "0bf8139c",
   "metadata": {},
   "outputs": [
    {
     "name": "stdout",
     "output_type": "stream",
     "text": [
      "129\n"
     ]
    }
   ],
   "source": [
    "raw_corpus = []\n",
    "meta_infos = []\n",
    "for f in data_files:\n",
    "    meta, texts = get_text_from_tfg(os.path.join('data', f), interval_list, data)\n",
    "    if len(texts) > 0:\n",
    "        new_texts = parse_left_right(texts)\n",
    "        raw_corpus.append(new_texts)\n",
    "        meta_infos.append(meta)\n",
    "for f in os.listdir(\"data\\delta_progress\"):\n",
    "    _, text = get_text_from_tfg(os.path.join('data\\delta_progress', f), interval_list, data)\n",
    "    if len(text) > 0:\n",
    "        new_texts = parse_left_right(texts)\n",
    "        raw_corpus.append(new_texts)   \n",
    "print(len(raw_corpus))"
   ]
  },
  {
   "cell_type": "markdown",
   "id": "678f8e5f",
   "metadata": {},
   "source": [
    "### Calculate health index"
   ]
  },
  {
   "cell_type": "code",
   "execution_count": 33,
   "id": "ff43f3bb",
   "metadata": {},
   "outputs": [],
   "source": [
    "health_index_interval = [[[89.5, 100], [80.5, 89.4], [70.0, 80.4], [59.5, 69.9], [54.5, 59.4], [49.5, 54.4], [29.5, 49.4], [10, 29.4]]]"
   ]
  },
  {
   "cell_type": "code",
   "execution_count": 34,
   "id": "0cbab351",
   "metadata": {},
   "outputs": [],
   "source": [
    "def read_data_health_index(path_texts):\n",
    "    return pd.read_excel(path_texts, sheet_name=2, header=0)"
   ]
  },
  {
   "cell_type": "code",
   "execution_count": 35,
   "id": "6edff683",
   "metadata": {},
   "outputs": [],
   "source": [
    "# get final list of texts and corresponding intervals \n",
    "# used for health index calculation\n",
    "def get_features_and_intervals(data_path, interval_list, kuchmagic_table):\n",
    "    text = []\n",
    "\n",
    "    try:\n",
    "        _, tf_arr = get_arr(data_path)\n",
    "    except:\n",
    "        _, tf_arr = get_arr_from_covid_tfg(data_path)\n",
    "\n",
    "    text = []\n",
    "    if tf_arr.size > 0:\n",
    "        features = calculate_features(tf_arr)\n",
    "        text, intervals = collect_output_text(features, interval_list, kuchmagic_table)\n",
    "\n",
    "    return features, intervals"
   ]
  },
  {
   "cell_type": "code",
   "execution_count": 36,
   "id": "ca9bee24",
   "metadata": {},
   "outputs": [],
   "source": [
    "def calculate_health_index(data_path, interval_list):\n",
    "    \n",
    "    factor_map = [[1, 1, 1.5, 1.5, 2, 2.5, 3],\n",
    "                  [1, 1, 1.5, 1.5, 2, 2, 2.5, 2.5, 2.5, 3],\n",
    "                  [1, 1, 1.5, 2, 3, 3],\n",
    "                  [1, 1, 1.5, 1.5, 2, 2.5, 3],\n",
    "                  [1, 1, 1.5, 1.5, 1.5, 2, 2, 2.5, 3],\n",
    "                  [1, 1, 1.5, 2, 2, 2.5, 3],\n",
    "                  [1, 1, 1.5, 1.5, 2, 2.5, 2.5]]\n",
    "    \n",
    "    result = []\n",
    "    norm_result = []\n",
    "    health_indices = []\n",
    "    points_list = sorted(os.listdir(data_path))\n",
    "    for f in points_list:\n",
    "        features, intervals = get_features_and_intervals(os.path.join(data_path, f), interval_list, data)\n",
    "\n",
    "        i0, i1, i2, i3, i4, i5, i6 = intervals\n",
    "        \n",
    "        SP = (factor_map[0][i0]*1)   + \\\n",
    "             (factor_map[1][i1]*1)   + \\\n",
    "             (factor_map[2][i2]*1)   + \\\n",
    "             (factor_map[3][i3]*0.9) + \\\n",
    "             (factor_map[4][i4]*1)   + \\\n",
    "             (factor_map[5][i5]*1.0) + \\\n",
    "             (factor_map[6][i6]*1)\n",
    "        result.append(SP)\n",
    "    result = np.array(result)\n",
    "    if np.max(result) == np.min(result):\n",
    "        norm_result = np.full(len(result), 1 / len(result))\n",
    "    else:\n",
    "        norm_result = (result - np.min(result)) / (np.max(result) - np.min(result))\n",
    "    health_indices = (1 - norm_result) * 100\n",
    "    with localcontext() as ctx:\n",
    "        ctx.prec = 3\n",
    "        for i, idx in enumerate(health_indices):\n",
    "            health_indices[i] = Decimal(idx) * Decimal(1.0)\n",
    "    zip_iterator = zip(points_list, health_indices)\n",
    "    point_index_dict = dict(zip_iterator)\n",
    "    return point_index_dict\n"
   ]
  },
  {
   "cell_type": "code",
   "execution_count": 37,
   "id": "f6b6c778",
   "metadata": {},
   "outputs": [
    {
     "data": {
      "text/plain": [
       "['ТА',\n",
       " 'анна',\n",
       " 'доронин',\n",
       " 'доронина',\n",
       " 'киселева',\n",
       " 'лена',\n",
       " 'оля',\n",
       " 'стожко',\n",
       " 'шестакова',\n",
       " 'шестопалов',\n",
       " 'шестопалова']"
      ]
     },
     "execution_count": 37,
     "metadata": {},
     "output_type": "execute_result"
    }
   ],
   "source": [
    "persons = sorted(os.listdir('data/persons'))\n",
    "persons"
   ]
  },
  {
   "cell_type": "code",
   "execution_count": 38,
   "id": "b203f358",
   "metadata": {},
   "outputs": [],
   "source": [
    "person_index = {}\n",
    "for person in persons:\n",
    "    person_path = os.path.join('data\\persons', person)\n",
    "    daily_index = {}\n",
    "    for date in sorted(os.listdir(person_path)):\n",
    "        full_path = os.path.join(person_path, date)\n",
    "        health_indices = calculate_health_index(full_path, interval_list)\n",
    "        daily_index[date] = health_indices\n",
    "    person_index[person] = daily_index\n"
   ]
  },
  {
   "cell_type": "code",
   "execution_count": 39,
   "id": "32186fd7",
   "metadata": {},
   "outputs": [
    {
     "data": {
      "text/plain": [
       "{'03.11': {'я 3.11 ночь болит голова левая.XML': 0.0,\n",
       "  'я 3.11 ночь голод правая.XML': 100.0,\n",
       "  'я 3.11 ночь точка сердца.XML': 34.5},\n",
       " '28.09': {'я 28.9 после ужина левая.XML': 57.1,\n",
       "  'я вечер после ужина 28.9 правая.XML': 0.0,\n",
       "  'я после ужина 28.9 левая 2.XML': 100.0,\n",
       "  'я после ужина правая 2.XML': 57.1},\n",
       " '30.09': {'ч утро 30.9 правая.XML': 0.0,\n",
       "  'я после обеда 30.9 левая 1.XML': 100.0,\n",
       "  'я после обеда 30.9 левая 2.XML': 87.3,\n",
       "  'я после обеда правая 1.XML': 0.0,\n",
       "  'я утро 30.9 левая.XML': 12.7}}"
      ]
     },
     "execution_count": 39,
     "metadata": {},
     "output_type": "execute_result"
    }
   ],
   "source": [
    "person_index['ТА']"
   ]
  },
  {
   "cell_type": "code",
   "execution_count": 40,
   "id": "9581cc20",
   "metadata": {},
   "outputs": [
    {
     "name": "stdout",
     "output_type": "stream",
     "text": [
      "Point                                    Health index   \n",
      "я 28.9 после ужина левая.XML             57.1           \n",
      "я вечер после ужина 28.9 правая.XML      0.0            \n",
      "я после ужина 28.9 левая 2.XML           100.0          \n",
      "я после ужина правая 2.XML               57.1           \n"
     ]
    }
   ],
   "source": [
    "d = person_index['ТА']['28.09']\n",
    "print(\"{:<40} {:<15}\".format('Point','Health index'))\n",
    "for k, v in d.items():\n",
    "    print(\"{:<40} {:<15}\".format(k, v))"
   ]
  },
  {
   "cell_type": "code",
   "execution_count": 41,
   "id": "f17cb33e",
   "metadata": {},
   "outputs": [
    {
     "name": "stdout",
     "output_type": "stream",
     "text": [
      "Point                                    Health index   \n",
      "ч утро 30.9 правая.XML                   0.0            \n",
      "я после обеда 30.9 левая 1.XML           100.0          \n",
      "я после обеда 30.9 левая 2.XML           87.3           \n",
      "я после обеда правая 1.XML               0.0            \n",
      "я утро 30.9 левая.XML                    12.7           \n"
     ]
    }
   ],
   "source": [
    "d = person_index['ТА']['30.09']\n",
    "print(\"{:<40} {:<15}\".format('Point','Health index'))\n",
    "for k, v in d.items():\n",
    "    print(\"{:<40} {:<15}\".format(k, v))"
   ]
  },
  {
   "cell_type": "code",
   "execution_count": 42,
   "id": "fa7d4c06",
   "metadata": {},
   "outputs": [
    {
     "data": {
      "text/plain": [
       "(['    я утро 12.00 30.9 пр л',\n",
       "  '     ',\n",
       "  '    160',\n",
       "  '    ',\n",
       "  '    7',\n",
       "  '    30.09.2021 12:09:05',\n",
       "  '     0001 11718366.00'],\n",
       " ['норма',\n",
       "  'норма',\n",
       "  'проверить сенсор и условия измерения! Возможно высокие влажность кожи, уровень адреналина/ сильный спазм -  повторить!',\n",
       "  'Усталость/ расслабление/ слабость, упадок сил. При повторении – обратить внимание/ Голод, переутомление /\\nторможение после стресса',\n",
       "  'после еды - норма/ При повторе натощак -  активация вирусов, серьезное подавление метаболизма, обратить внимание на состояние, воспаление слизистых / спазм сосудов, артерии – гипоксия!',\n",
       "  'Повторить измерение; при повторении -   после крепкого кофе (чая) - норма / контроль давления/\\nВолнение, напряжение, спазм/ повышен уровень гормонов/ опасная нагрузка на сердце/  критические дни/  воспаление',\n",
       "  'Усталость/ слабость/спазм/ голод/ легкий стресс/расслабление после еды/при повторении – следить за состоянием.'])"
      ]
     },
     "execution_count": 42,
     "metadata": {},
     "output_type": "execute_result"
    }
   ],
   "source": [
    "get_text_from_tfg('data/ч утро 30.9 правая.XML', interval_list, data)"
   ]
  },
  {
   "cell_type": "code",
   "execution_count": 44,
   "id": "bed99a7e",
   "metadata": {},
   "outputs": [
    {
     "data": {
      "text/plain": [
       "(['    я после обеда 1 л пр',\n",
       "  '     ',\n",
       "  '    160',\n",
       "  '    ',\n",
       "  '    7',\n",
       "  '    30.09.2021 15:29:35',\n",
       "  '     0001 11718450.00'],\n",
       " ['норма',\n",
       "  'норма',\n",
       "  'проверить сенсор и условия измерения! Возможно высокие влажность кожи, уровень адреналина/ сильный спазм -  повторить!',\n",
       "  'если натощак – спазм желчных протоков (0,96-1,1)/ \\nспазм сосудов, боль (меньше 0,98)/\\nгормоны (см. другие), критические дни, овуляция/\\nжарко, влага (0,99-1,1)/ контроль температуры/\\nочаговое воспаление (1,1-1,3)',\n",
       "  'после еды - норма/ При повторе натощак -  активация вирусов, серьезное подавление метаболизма, обратить внимание на состояние, воспаление слизистых / спазм сосудов, артерии – гипоксия!',\n",
       "  'Повторить измерение; при повторении -   после крепкого кофе (чая) - норма / контроль давления/\\nВолнение, напряжение, спазм/ повышен уровень гормонов/ опасная нагрузка на сердце/  критические дни/  воспаление',\n",
       "  'Усталость/ слабость/спазм/ голод/ легкий стресс/расслабление после еды/при повторении – следить за состоянием.'])"
      ]
     },
     "execution_count": 44,
     "metadata": {},
     "output_type": "execute_result"
    }
   ],
   "source": [
    "get_text_from_tfg('data/я после обеда правая 1.XML', interval_list, data)"
   ]
  },
  {
   "cell_type": "code",
   "execution_count": 25,
   "id": "fecfee45",
   "metadata": {},
   "outputs": [
    {
     "data": {
      "text/html": [
       "<div>\n",
       "<style scoped>\n",
       "    .dataframe tbody tr th:only-of-type {\n",
       "        vertical-align: middle;\n",
       "    }\n",
       "\n",
       "    .dataframe tbody tr th {\n",
       "        vertical-align: top;\n",
       "    }\n",
       "\n",
       "    .dataframe thead th {\n",
       "        text-align: right;\n",
       "    }\n",
       "</style>\n",
       "<table border=\"1\" class=\"dataframe\">\n",
       "  <thead>\n",
       "    <tr style=\"text-align: right;\">\n",
       "      <th></th>\n",
       "      <th>Unnamed: 0</th>\n",
       "      <th>text</th>\n",
       "    </tr>\n",
       "  </thead>\n",
       "  <tbody>\n",
       "    <tr>\n",
       "      <th>0</th>\n",
       "      <td>0</td>\n",
       "      <td>Норма / Высокая влажность кожи, жарко, испарин...</td>\n",
       "    </tr>\n",
       "    <tr>\n",
       "      <th>1</th>\n",
       "      <td>1</td>\n",
       "      <td>Норма / Легкая усталость / В проекции органов ...</td>\n",
       "    </tr>\n",
       "    <tr>\n",
       "      <th>2</th>\n",
       "      <td>2</td>\n",
       "      <td>Усталость, слабость. Без причины – обратить вн...</td>\n",
       "    </tr>\n",
       "    <tr>\n",
       "      <th>3</th>\n",
       "      <td>3</td>\n",
       "      <td>На левой стороне - сильная усталость /  Боль, ...</td>\n",
       "    </tr>\n",
       "    <tr>\n",
       "      <th>4</th>\n",
       "      <td>4</td>\n",
       "      <td>Для правой руки или проекции органов ЖКТ  - си...</td>\n",
       "    </tr>\n",
       "    <tr>\n",
       "      <th>5</th>\n",
       "      <td>5</td>\n",
       "      <td>На левой руке (слева на лице и теле) - высокий...</td>\n",
       "    </tr>\n",
       "    <tr>\n",
       "      <th>6</th>\n",
       "      <td>6</td>\n",
       "      <td>На левой руке (слева на лице и теле) - резкий ...</td>\n",
       "    </tr>\n",
       "    <tr>\n",
       "      <th>7</th>\n",
       "      <td>7</td>\n",
       "      <td>Срочно принять меры! При норме состояния и нат...</td>\n",
       "    </tr>\n",
       "  </tbody>\n",
       "</table>\n",
       "</div>"
      ],
      "text/plain": [
       "   Unnamed: 0                                               text\n",
       "0           0  Норма / Высокая влажность кожи, жарко, испарин...\n",
       "1           1  Норма / Легкая усталость / В проекции органов ...\n",
       "2           2  Усталость, слабость. Без причины – обратить вн...\n",
       "3           3  На левой стороне - сильная усталость /  Боль, ...\n",
       "4           4  Для правой руки или проекции органов ЖКТ  - си...\n",
       "5           5  На левой руке (слева на лице и теле) - высокий...\n",
       "6           6  На левой руке (слева на лице и теле) - резкий ...\n",
       "7           7  Срочно принять меры! При норме состояния и нат..."
      ]
     },
     "execution_count": 25,
     "metadata": {},
     "output_type": "execute_result"
    }
   ],
   "source": [
    "health_data = read_data_health_index('../kuch_magic.xlsx')\n",
    "health_data"
   ]
  },
  {
   "cell_type": "code",
   "execution_count": 26,
   "id": "1a14de3e",
   "metadata": {},
   "outputs": [
    {
     "data": {
      "text/plain": [
       "57.1"
      ]
     },
     "execution_count": 26,
     "metadata": {},
     "output_type": "execute_result"
    }
   ],
   "source": [
    "person_index['ТА']['28.09']['я 28.9 после ужина левая.XML']"
   ]
  },
  {
   "cell_type": "code",
   "execution_count": 27,
   "id": "518c89ff",
   "metadata": {},
   "outputs": [
    {
     "data": {
      "text/plain": [
       "(['Для правой руки или проекции органов ЖКТ \\xa0- сильный голод (если после еды – ложно). / В других точках и слева - заметная слабость, сильный спазм, повышен уровень гормонов. \\xa0/ Обратить внимание! Негативные процессы, воспаление. / В проекции органов – ослабление функции, воспаление. / В проекции сердца, печени щитовидки, надпочечников - возбуждение, стресс (гормоны). / Спазм, в том числе после курения, алкоголя. / Смотреть близость результатов для левой и правой рук. При близости данных – системная проблема состояния – стресс/ вирус!'],\n",
       " [4])"
      ]
     },
     "execution_count": 27,
     "metadata": {},
     "output_type": "execute_result"
    }
   ],
   "source": [
    "collect_output_text([person_index['ТА']['28.09']['я 28.9 после ужина левая.XML']], health_index_interval, health_data)"
   ]
  },
  {
   "cell_type": "code",
   "execution_count": null,
   "id": "e43976f8",
   "metadata": {},
   "outputs": [],
   "source": []
  }
 ],
 "metadata": {
  "kernelspec": {
   "display_name": "Python 3 (ipykernel)",
   "language": "python",
   "name": "python3"
  },
  "language_info": {
   "codemirror_mode": {
    "name": "ipython",
    "version": 3
   },
   "file_extension": ".py",
   "mimetype": "text/x-python",
   "name": "python",
   "nbconvert_exporter": "python",
   "pygments_lexer": "ipython3",
   "version": "3.9.2"
  }
 },
 "nbformat": 4,
 "nbformat_minor": 5
}
